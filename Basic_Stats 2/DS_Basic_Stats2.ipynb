{
  "nbformat": 4,
  "nbformat_minor": 0,
  "metadata": {
    "colab": {
      "provenance": []
    },
    "kernelspec": {
      "name": "python3",
      "display_name": "Python 3"
    },
    "language_info": {
      "name": "python"
    }
  },
  "cells": [
    {
      "cell_type": "markdown",
      "source": [
        "**Task A: Build 99% Confidence Interval Using Sample Standard Deviation**"
      ],
      "metadata": {
        "id": "1GbodMY_DSFd"
      }
    },
    {
      "cell_type": "markdown",
      "source": [
        "**1. Calculate Sample Mean and Standard Deviation**"
      ],
      "metadata": {
        "id": "W6QiG5RODa8H"
      }
    },
    {
      "cell_type": "code",
      "source": [
        "import numpy as np\n",
        "\n",
        "# Given data\n",
        "data = [1.13, 1.55, 1.43, 0.92, 1.25, 1.36, 1.32, 0.85, 1.07, 1.48, 1.20, 1.33, 1.18, 1.22, 1.29]\n",
        "\n",
        "# Calculate sample mean\n",
        "sample_mean = np.mean(data)\n",
        "\n",
        "# Calculate sample standard deviation\n",
        "sample_std_dev = np.std(data, ddof=1)  # ddof=1 for sample standard deviation\n",
        "\n",
        "sample_mean, sample_std_dev"
      ],
      "metadata": {
        "colab": {
          "base_uri": "https://localhost:8080/"
        },
        "id": "WuOgVh0ADWr4",
        "outputId": "b72ed443-5517-418b-def9-07da27461652"
      },
      "execution_count": 1,
      "outputs": [
        {
          "output_type": "execute_result",
          "data": {
            "text/plain": [
              "(1.2386666666666666, 0.19316412956959936)"
            ]
          },
          "metadata": {},
          "execution_count": 1
        }
      ]
    },
    {
      "cell_type": "markdown",
      "source": [
        "**2. Determine the t-Critical Value**"
      ],
      "metadata": {
        "id": "-al298ajDkEw"
      }
    },
    {
      "cell_type": "code",
      "source": [
        "import scipy.stats as stats\n",
        "\n",
        "# Degrees of freedom\n",
        "df = len(data) - 1\n",
        "\n",
        "# t-critical value for 99% confidence interval\n",
        "t_critical = stats.t.ppf(1 - 0.005, df)\n",
        "\n",
        "t_critical"
      ],
      "metadata": {
        "colab": {
          "base_uri": "https://localhost:8080/"
        },
        "id": "L3WtBXlTDlPT",
        "outputId": "9965d47d-5a75-4d99-9850-04dc18779232"
      },
      "execution_count": 2,
      "outputs": [
        {
          "output_type": "execute_result",
          "data": {
            "text/plain": [
              "2.976842734370834"
            ]
          },
          "metadata": {},
          "execution_count": 2
        }
      ]
    },
    {
      "cell_type": "markdown",
      "source": [
        "**3. Calculate Margin of Error (ME)**"
      ],
      "metadata": {
        "id": "1KK8ocDTDtOb"
      }
    },
    {
      "cell_type": "code",
      "source": [
        "# Calculate the margin of error\n",
        "margin_of_error = t_critical * (sample_std_dev / np.sqrt(len(data)))\n",
        "\n",
        "margin_of_error"
      ],
      "metadata": {
        "colab": {
          "base_uri": "https://localhost:8080/"
        },
        "id": "mIBfOIJQDqGs",
        "outputId": "cb6696f4-ed14-40b1-d74a-bed581056fd0"
      },
      "execution_count": 3,
      "outputs": [
        {
          "output_type": "execute_result",
          "data": {
            "text/plain": [
              "0.14846932822817596"
            ]
          },
          "metadata": {},
          "execution_count": 3
        }
      ]
    },
    {
      "cell_type": "markdown",
      "source": [
        "**4. Construct the Confidence Interval**"
      ],
      "metadata": {
        "id": "f2Yp2bY8D09k"
      }
    },
    {
      "cell_type": "code",
      "source": [
        "# Construct the confidence interval\n",
        "confidence_interval = (sample_mean - margin_of_error, sample_mean + margin_of_error)\n",
        "\n",
        "confidence_interval"
      ],
      "metadata": {
        "colab": {
          "base_uri": "https://localhost:8080/"
        },
        "id": "WQaT_9r0DxRP",
        "outputId": "e6ced706-2003-41b2-90bf-d39511c9cf56"
      },
      "execution_count": 4,
      "outputs": [
        {
          "output_type": "execute_result",
          "data": {
            "text/plain": [
              "(1.0901973384384906, 1.3871359948948425)"
            ]
          },
          "metadata": {},
          "execution_count": 4
        }
      ]
    },
    {
      "cell_type": "markdown",
      "source": [
        "**Task B: Build 99% Confidence Interval Using Known Population Standard Deviation**"
      ],
      "metadata": {
        "id": "mZMek4c2D8Gd"
      }
    },
    {
      "cell_type": "markdown",
      "source": [
        "**1. Determine the Z-Critical Value**"
      ],
      "metadata": {
        "id": "KvjRuThfD_Lo"
      }
    },
    {
      "cell_type": "code",
      "source": [
        "# Z-critical value for 99% confidence interval\n",
        "z_critical = stats.norm.ppf(1 - 0.005)\n",
        "\n",
        "z_critical"
      ],
      "metadata": {
        "colab": {
          "base_uri": "https://localhost:8080/"
        },
        "id": "zAtsC1ykD5Yf",
        "outputId": "6243af7c-3c0e-4caf-b39e-578877e345a4"
      },
      "execution_count": 5,
      "outputs": [
        {
          "output_type": "execute_result",
          "data": {
            "text/plain": [
              "2.5758293035489004"
            ]
          },
          "metadata": {},
          "execution_count": 5
        }
      ]
    },
    {
      "cell_type": "markdown",
      "source": [
        "**2. Calculate Margin of Error (ME) Using Population Standard Deviation**"
      ],
      "metadata": {
        "id": "pVgR9lQIEIH0"
      }
    },
    {
      "cell_type": "code",
      "source": [
        "# Population standard deviation\n",
        "population_std_dev = 0.2\n",
        "\n",
        "# Calculate the margin of error\n",
        "margin_of_error_known_sigma = z_critical * (population_std_dev / np.sqrt(len(data)))\n",
        "\n",
        "margin_of_error_known_sigma\n"
      ],
      "metadata": {
        "colab": {
          "base_uri": "https://localhost:8080/"
        },
        "id": "enxBkw3zECpR",
        "outputId": "c5ded1cb-bb86-4b97-ad11-346a300c8fd0"
      },
      "execution_count": 6,
      "outputs": [
        {
          "output_type": "execute_result",
          "data": {
            "text/plain": [
              "0.13301525327090588"
            ]
          },
          "metadata": {},
          "execution_count": 6
        }
      ]
    },
    {
      "cell_type": "markdown",
      "source": [
        "**3. Construct the Confidence Interval Using Population Standard Deviation**"
      ],
      "metadata": {
        "id": "fwd-wSKnEO9r"
      }
    },
    {
      "cell_type": "code",
      "source": [
        "# Construct the confidence interval\n",
        "confidence_interval_known_sigma = (sample_mean - margin_of_error_known_sigma, sample_mean + margin_of_error_known_sigma)\n",
        "\n",
        "confidence_interval_known_sigma"
      ],
      "metadata": {
        "colab": {
          "base_uri": "https://localhost:8080/"
        },
        "id": "0RFlfH_JEMHj",
        "outputId": "f01e3b18-b5d6-4212-b001-0855ceed3e06"
      },
      "execution_count": 7,
      "outputs": [
        {
          "output_type": "execute_result",
          "data": {
            "text/plain": [
              "(1.1056514133957607, 1.3716819199375725)"
            ]
          },
          "metadata": {},
          "execution_count": 7
        }
      ]
    }
  ]
}