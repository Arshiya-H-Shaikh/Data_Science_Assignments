{
  "nbformat": 4,
  "nbformat_minor": 0,
  "metadata": {
    "colab": {
      "provenance": []
    },
    "kernelspec": {
      "name": "python3",
      "display_name": "Python 3"
    },
    "language_info": {
      "name": "python"
    }
  },
  "cells": [
    {
      "cell_type": "markdown",
      "source": [
        "**BASICS OF PYTHON**"
      ],
      "metadata": {
        "id": "Wt0WmMC5F3bl"
      }
    },
    {
      "cell_type": "markdown",
      "source": [
        "**Exercise 1: Prime Numbers**"
      ],
      "metadata": {
        "id": "ph8s4-QpGI4B"
      }
    },
    {
      "cell_type": "code",
      "execution_count": 1,
      "metadata": {
        "colab": {
          "base_uri": "https://localhost:8080/"
        },
        "id": "c9tWTeIqFRUO",
        "outputId": "2906323b-644e-42f7-a873-440a25ccc689"
      },
      "outputs": [
        {
          "output_type": "stream",
          "name": "stdout",
          "text": [
            "29 is prime: True\n"
          ]
        }
      ],
      "source": [
        "def is_prime(n):\n",
        "    if n <= 1:\n",
        "        return False\n",
        "    if n == 2:\n",
        "        return True  # 2 is the only even prime number\n",
        "    if n % 2 == 0:\n",
        "        return False  # any other even number is not a prime\n",
        "\n",
        "    for i in range(3, int(n**0.5) + 1, 2):\n",
        "        if n % i == 0:\n",
        "            return False\n",
        "    return True\n",
        "\n",
        "# Example usage\n",
        "number = 29\n",
        "print(f\"{number} is prime: {is_prime(number)}\")"
      ]
    },
    {
      "cell_type": "markdown",
      "source": [
        "**Exercise 2: Product of Random Numbers**"
      ],
      "metadata": {
        "id": "YSWR6bA0GVrD"
      }
    },
    {
      "cell_type": "code",
      "source": [
        "import random\n",
        "def product_quiz():\n",
        "    num1 = random.randint(1, 10)\n",
        "    num2 = random.randint(1, 10)\n",
        "    correct_product = num1 * num2\n",
        "\n",
        "    print(f\"What is the product of {num1} and {num2}?\")\n",
        "    user_answer = int(input(\"Your answer: \"))\n",
        "\n",
        "    if user_answer == correct_product:\n",
        "        print(\"Correct!\")\n",
        "    else:\n",
        "        print(f\"Incorrect. The correct answer is {correct_product}.\")\n",
        "\n",
        "# Example usage\n",
        "product_quiz()"
      ],
      "metadata": {
        "colab": {
          "base_uri": "https://localhost:8080/"
        },
        "id": "QhpDWRFdGSfk",
        "outputId": "cc93cc62-2cc7-4f61-b15c-cb1c3bf25b7a"
      },
      "execution_count": 2,
      "outputs": [
        {
          "output_type": "stream",
          "name": "stdout",
          "text": [
            "What is the product of 9 and 8?\n",
            "Your answer: 72\n",
            "Correct!\n"
          ]
        }
      ]
    },
    {
      "cell_type": "markdown",
      "source": [
        "**Exercise 3: Squares of Even/Odd Numbers**"
      ],
      "metadata": {
        "id": "KKzMLstJGsPk"
      }
    },
    {
      "cell_type": "code",
      "source": [
        "def squares_of_even_numbers():\n",
        "    print(\"Squares of even numbers from 100 to 200:\")\n",
        "    for num in range(100, 201):\n",
        "        if num % 2 == 0:\n",
        "            print(f\"{num}^2 = {num**2}\")\n",
        "\n",
        "# Example usage\n",
        "squares_of_even_numbers()"
      ],
      "metadata": {
        "colab": {
          "base_uri": "https://localhost:8080/"
        },
        "id": "YU4FvU0OGlnp",
        "outputId": "e5ae4f99-f07e-4509-bf52-955b1806c2e6"
      },
      "execution_count": 3,
      "outputs": [
        {
          "output_type": "stream",
          "name": "stdout",
          "text": [
            "Squares of even numbers from 100 to 200:\n",
            "100^2 = 10000\n",
            "102^2 = 10404\n",
            "104^2 = 10816\n",
            "106^2 = 11236\n",
            "108^2 = 11664\n",
            "110^2 = 12100\n",
            "112^2 = 12544\n",
            "114^2 = 12996\n",
            "116^2 = 13456\n",
            "118^2 = 13924\n",
            "120^2 = 14400\n",
            "122^2 = 14884\n",
            "124^2 = 15376\n",
            "126^2 = 15876\n",
            "128^2 = 16384\n",
            "130^2 = 16900\n",
            "132^2 = 17424\n",
            "134^2 = 17956\n",
            "136^2 = 18496\n",
            "138^2 = 19044\n",
            "140^2 = 19600\n",
            "142^2 = 20164\n",
            "144^2 = 20736\n",
            "146^2 = 21316\n",
            "148^2 = 21904\n",
            "150^2 = 22500\n",
            "152^2 = 23104\n",
            "154^2 = 23716\n",
            "156^2 = 24336\n",
            "158^2 = 24964\n",
            "160^2 = 25600\n",
            "162^2 = 26244\n",
            "164^2 = 26896\n",
            "166^2 = 27556\n",
            "168^2 = 28224\n",
            "170^2 = 28900\n",
            "172^2 = 29584\n",
            "174^2 = 30276\n",
            "176^2 = 30976\n",
            "178^2 = 31684\n",
            "180^2 = 32400\n",
            "182^2 = 33124\n",
            "184^2 = 33856\n",
            "186^2 = 34596\n",
            "188^2 = 35344\n",
            "190^2 = 36100\n",
            "192^2 = 36864\n",
            "194^2 = 37636\n",
            "196^2 = 38416\n",
            "198^2 = 39204\n",
            "200^2 = 40000\n"
          ]
        }
      ]
    },
    {
      "cell_type": "markdown",
      "source": [
        "**Exercise 4: Word counter**"
      ],
      "metadata": {
        "id": "avNJX38HG1Mr"
      }
    },
    {
      "cell_type": "code",
      "source": [
        "def word_counter(input_text):\n",
        "    words = input_text.split()\n",
        "    word_count = {}\n",
        "\n",
        "    for word in words:\n",
        "        word = word.lower()  # make the word lower case to handle case insensitivity\n",
        "        if word in word_count:\n",
        "            word_count[word] += 1\n",
        "        else:\n",
        "            word_count[word] = 1\n",
        "\n",
        "    for word, count in word_count.items():\n",
        "        print(f\"'{word}': {count}\")\n",
        "\n",
        "# Example usage\n",
        "input_text = \"This is a sample text. This text will be used to demonstrate the word counter.\"\n",
        "word_counter(input_text)\n"
      ],
      "metadata": {
        "colab": {
          "base_uri": "https://localhost:8080/"
        },
        "id": "lQlgPu4wGxni",
        "outputId": "105e2695-1157-4f60-e7fa-d414740c937e"
      },
      "execution_count": 4,
      "outputs": [
        {
          "output_type": "stream",
          "name": "stdout",
          "text": [
            "'this': 2\n",
            "'is': 1\n",
            "'a': 1\n",
            "'sample': 1\n",
            "'text.': 1\n",
            "'text': 1\n",
            "'will': 1\n",
            "'be': 1\n",
            "'used': 1\n",
            "'to': 1\n",
            "'demonstrate': 1\n",
            "'the': 1\n",
            "'word': 1\n",
            "'counter.': 1\n"
          ]
        }
      ]
    },
    {
      "cell_type": "markdown",
      "source": [
        "**Exercise 5: Check for Palindrome**"
      ],
      "metadata": {
        "id": "4V6pE6DJG--x"
      }
    },
    {
      "cell_type": "code",
      "source": [
        "def is_palindrome(s):\n",
        "    # Remove non-alphanumeric characters and convert to lowercase\n",
        "    cleaned = ''.join(char.lower() for char in s if char.isalnum())\n",
        "    return cleaned == cleaned[::-1]\n",
        "\n",
        "# Example usage\n",
        "input_string = \"A man, a plan, a canal, Panama\"\n",
        "print(f\"'{input_string}' is a palindrome: {is_palindrome(input_string)}\")"
      ],
      "metadata": {
        "colab": {
          "base_uri": "https://localhost:8080/"
        },
        "id": "AXJ7X1KHG7qH",
        "outputId": "de4c7246-35a4-487c-f3c7-ed6cc90c178a"
      },
      "execution_count": 5,
      "outputs": [
        {
          "output_type": "stream",
          "name": "stdout",
          "text": [
            "'A man, a plan, a canal, Panama' is a palindrome: True\n"
          ]
        }
      ]
    }
  ]
}